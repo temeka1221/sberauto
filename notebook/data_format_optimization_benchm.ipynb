{
 "cells": [
  {
   "cell_type": "markdown",
   "id": "c77268a5-167a-4ea2-8b87-3129f4c36e5b",
   "metadata": {},
   "source": [
    "### **Обработка данных с использованием Pickle и Parquet**\n",
    "\n",
    "#### Задача:\n",
    "Загрузка и преобразование данных с измерением производительности для двух форматов — **Pickle** и **Parquet**. Основное внимание уделяется сравнению их размера и эффективности.\n",
    "\n",
    "#### Используемые библиотеки:\n",
    "- **pandas**: Для работы с данными.\n",
    "- **pyarrow**: Для работы с форматом Parquet.\n",
    "- **os, psutil, time**: Для измерений (размеров файлов, использования памяти и времени).\n",
    "\n",
    "#### Шаги выполнения:\n",
    "1. **Загрузка данных**: Загружаются данные в формате Pickle.\n",
    "2. **Конвертация в Parquet**: Данные преобразуются в формат Parquet для меньшего размера и лучшей производительности.\n",
    "3. **Сравнение**: Измеряются размеры файлов и использование памяти для каждого формата.\n",
    "4. **Результаты**: Parquet значительно экономит память и время при обработке данных по сравнению с Pickle.\n",
    "\n",
    "#### Вывод:\n",
    "Использование формата **Parquet** для больших данных дает значительную экономию в размере файлов и повышает производительность."
   ]
  },
  {
   "cell_type": "markdown",
   "id": "37887e69-1d37-41af-8b76-2a1fedcb43e5",
   "metadata": {},
   "source": [
    "### Импорт"
   ]
  },
  {
   "cell_type": "code",
   "execution_count": 15,
   "id": "bad67552-fb76-4920-95d5-75f476dc266d",
   "metadata": {},
   "outputs": [],
   "source": [
    "import pandas as pd\n",
    "import pyarrow as pa\n",
    "import pyarrow.parquet as pq\n",
    "import os\n",
    "import psutil\n",
    "import time"
   ]
  },
  {
   "cell_type": "markdown",
   "id": "819e82e0-dd69-4c31-8293-0bbe04cca699",
   "metadata": {},
   "source": [
    "### Функции"
   ]
  },
  {
   "cell_type": "code",
   "execution_count": 6,
   "id": "31a44f49-16fc-40e2-a7e1-3bc9cd30dcfa",
   "metadata": {},
   "outputs": [],
   "source": [
    "# Функции для измерения\n",
    "def get_size_mb(file_path):\n",
    "    \"\"\"Получить размер файла в МБ\"\"\"\n",
    "    return os.path.getsize(file_path) / (1024 * 1024)\n",
    "\n",
    "def get_memory_usage():\n",
    "    \"\"\"Получить текущее использование памяти процессом\"\"\"\n",
    "    process = psutil.Process(os.getpid())\n",
    "    return process.memory_info().rss / 1024 / 1024  # Конвертация в МБ\n",
    "\n",
    "def measure_execution_time(func):\n",
    "    \"\"\"Декоратор для измерения времени выполнения\"\"\"\n",
    "    def wrapper(*args, **kwargs):\n",
    "        start_time = time.time()\n",
    "        result = func(*args, **kwargs)\n",
    "        end_time = time.time()\n",
    "        print(f\"Время выполнения {func.__name__}: {end_time - start_time:.2f} секунд\")\n",
    "        return result\n",
    "    return wrapper\n",
    "\n",
    "# Функции для работы с данными\n",
    "@measure_execution_time\n",
    "def load_pickle_files(sessions_path='ga_sessions.pkl', hits_path='ga_hits.pkl'):\n",
    "    \"\"\"Загрузка пиклов\"\"\"\n",
    "    initial_memory = get_memory_usage()\n",
    "\n",
    "    df_sessions = pd.read_pickle(sessions_path)\n",
    "    df_hits = pd.read_pickle(hits_path)\n",
    "\n",
    "    final_memory = get_memory_usage()\n",
    "    memory_used = final_memory - initial_memory\n",
    "\n",
    "    print(f'\\nРазрмеры файлов:')\n",
    "    print(f'Сессии {get_size_mb(sessions_path):.2f} МБ')\n",
    "    print(f'Хиты {get_size_mb(hits_path):.2f} МБ')\n",
    "    print(f'Использовано памяти: {memory_used:.2f} МБ')\n",
    "\n",
    "    return df_sessions, df_hits\n",
    "\n",
    "@measure_execution_time\n",
    "def convert_to_parquet(df, output, compression='gzip'):\n",
    "    \"\"\"Конвертация дф в паркет\"\"\"\n",
    "    table = pa.Table.from_pandas(df)\n",
    "    pq.write_table(table, output, compression=compression)\n",
    "    print(f'Размер паркет файла: {get_size_mb(output):.2f} МБ')\n",
    "\n",
    "@measure_execution_time\n",
    "def load_parquet(file_path, columns=None):\n",
    "    \"\"\"Загрузка паркета\"\"\"\n",
    "    initial_memory = get_memory_usage()\n",
    "\n",
    "    if columns:\n",
    "        df = pq.read_table(file_path, columns=columns).to_pandas()\n",
    "    else:\n",
    "        df = pq.read_table(file_path).to_pandas()\n",
    "\n",
    "    final_memory = get_memory_usage()\n",
    "    memory_used = final_memory - initial_memory\n",
    "\n",
    "    print(f'Использовано памяти: {memory_used:.2f} МБ')\n",
    "    return df"
   ]
  },
  {
   "cell_type": "markdown",
   "id": "7b00f711-f6c9-4498-8de2-536cdb8ca141",
   "metadata": {},
   "source": [
    "### Основной код выполнения"
   ]
  },
  {
   "cell_type": "code",
   "execution_count": 7,
   "id": "ccabc2ea-c3ec-4fb9-8481-b1c9fc975907",
   "metadata": {},
   "outputs": [
    {
     "name": "stdout",
     "output_type": "stream",
     "text": [
      "\n",
      "Разрмеры файлов:\n",
      "Сессии 377.11 МБ\n",
      "Хиты 4191.90 МБ\n",
      "Использовано памяти: 12704.75 МБ\n",
      "Время выполнения load_pickle_files: 7.96 секунд\n"
     ]
    }
   ],
   "source": [
    "df_sessions_pkl, df_hits_pkl = load_pickle_files('ga_sessions.pkl', 'ga_hits.pkl')"
   ]
  },
  {
   "cell_type": "code",
   "execution_count": 8,
   "id": "66ea43f2-1fa2-47b9-9920-556bbaf86c7c",
   "metadata": {},
   "outputs": [
    {
     "name": "stdout",
     "output_type": "stream",
     "text": [
      "Размер паркет файла: 50.79 МБ\n",
      "Время выполнения convert_to_parquet: 6.85 секунд\n",
      "Размер паркет файла: 336.45 МБ\n",
      "Время выполнения convert_to_parquet: 34.91 секунд\n"
     ]
    }
   ],
   "source": [
    "convert_to_parquet(df_sessions_pkl, 'ga_sessions.parquet.gz')\n",
    "convert_to_parquet(df_hits_pkl, 'ga_hits.parquet.gz')"
   ]
  },
  {
   "cell_type": "code",
   "execution_count": 9,
   "id": "410f0bfa-da2e-4177-9a1c-202eb270ce5b",
   "metadata": {},
   "outputs": [
    {
     "name": "stdout",
     "output_type": "stream",
     "text": [
      "Использовано памяти: 2035.12 МБ\n",
      "Время выполнения load_parquet: 0.98 секунд\n",
      "Использовано памяти: 4231.52 МБ\n",
      "Время выполнения load_parquet: 4.70 секунд\n"
     ]
    }
   ],
   "source": [
    "df_sessions_parquet = load_parquet('ga_sessions.parquet.gz')\n",
    "df_hits_parquet = load_parquet('ga_hits.parquet.gz')"
   ]
  },
  {
   "cell_type": "code",
   "execution_count": 10,
   "id": "01f6d374-f9d6-4a0f-b34a-88ec160a7b57",
   "metadata": {},
   "outputs": [
    {
     "name": "stdout",
     "output_type": "stream",
     "text": [
      "Использовано памяти: 597.19 МБ\n",
      "Время выполнения load_parquet: 0.48 секунд\n"
     ]
    }
   ],
   "source": [
    "columns_subset = ['session_id', 'utm_medium']\n",
    "df_sessions_subset = load_parquet('ga_sessions.parquet.gz', columns=columns_subset)"
   ]
  },
  {
   "cell_type": "code",
   "execution_count": 14,
   "id": "a86dd83f-5b66-4902-9a24-e886eb1cbbec",
   "metadata": {},
   "outputs": [
    {
     "name": "stdout",
     "output_type": "stream",
     "text": [
      "\n",
      "Итоговое сравнения размеров:\n",
      "Sessions pickle: 377.11 МБ\n",
      "Sessions parquet: 50.79 МБ\n",
      "\n",
      "Hits pickle: 4191.90 МБ\n",
      "Hits parquet: 336.45 МБ\n"
     ]
    }
   ],
   "source": [
    "print(f'\\nИтоговое сравнения размеров:')\n",
    "print(f\"Sessions pickle: {get_size_mb('ga_sessions.pkl'):.2f} МБ\")\n",
    "print(f\"Sessions parquet: {get_size_mb('ga_sessions.parquet.gz'):.2f} МБ\")\n",
    "print(f\"\\nHits pickle: {get_size_mb('ga_hits.pkl'):.2f} МБ\")\n",
    "print(f\"Hits parquet: {get_size_mb('ga_hits.parquet.gz'):.2f} МБ\")"
   ]
  }
 ],
 "metadata": {
  "kernelspec": {
   "display_name": "Python 3 (ipykernel)",
   "language": "python",
   "name": "python3"
  },
  "language_info": {
   "codemirror_mode": {
    "name": "ipython",
    "version": 3
   },
   "file_extension": ".py",
   "mimetype": "text/x-python",
   "name": "python",
   "nbconvert_exporter": "python",
   "pygments_lexer": "ipython3",
   "version": "3.11.4"
  }
 },
 "nbformat": 4,
 "nbformat_minor": 5
}
